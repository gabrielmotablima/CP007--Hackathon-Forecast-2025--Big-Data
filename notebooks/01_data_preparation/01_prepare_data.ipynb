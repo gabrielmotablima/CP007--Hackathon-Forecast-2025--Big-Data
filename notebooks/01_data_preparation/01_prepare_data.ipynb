{
  "cells": [
    {
      "cell_type": "markdown",
      "metadata": {
        "id": "ty8A6gL3DX2I"
      },
      "source": [
        "# 📊 Preparação de Dados - Previsão de Vendas\n",
        "\n",
        "Este notebook realiza a preparação e limpeza dos dados para o modelo de previsão de vendas por PDV/SKU.\n",
        "\n",
        "## 🎯 Objetivos\n",
        "- Unificar datasets de transações, lojas, produtos e informações auxiliares\n",
        "- Limpar e tratar valores inconsistentes\n",
        "- Criar features de engenharia (sazonalidade, histórico)\n",
        "- Preparar dados para modelagem\n",
        "\n",
        "## 📋 Etapas do Pipeline\n",
        "1. **Importação de bibliotecas**\n",
        "2. **Leitura dos datasets**\n",
        "3. **Unificação dos dados**\n",
        "4. **Limpeza e tratamento**\n",
        "5. **Engenharia de features**\n",
        "6. **Exportação dos dados processados**"
      ]
    },
    {
      "cell_type": "markdown",
      "metadata": {
        "id": "0oHJrK21hjKj"
      },
      "source": [
        "## 📚 Importação de Bibliotecas\n",
        "\n",
        "Carregamento das bibliotecas necessárias para manipulação e processamento dos dados:\n",
        "- **Polars**: Biblioteca de alta performance para manipulação de DataFrames\n",
        "- **NumPy**: Operações numéricas e matemáticas"
      ]
    },
    {
      "cell_type": "code",
      "execution_count": 1,
      "metadata": {
        "id": "Fy81-dDTMLwn"
      },
      "outputs": [],
      "source": [
        "import polars as pl\n",
        "import numpy as np"
      ]
    },
    {
      "cell_type": "markdown",
      "metadata": {
        "id": "z3KdoeuIDcl3"
      },
      "source": [
        "## 📂 Leitura dos Datasets\n",
        "\n",
        "Carregamento dos datasets brutos necessários para a análise:\n",
        "\n",
        "### Datasets Principais:\n",
        "- **df_store**: Informações dos pontos de venda (PDVs)\n",
        "- **df_transaction**: Histórico de transações de vendas\n",
        "- **df_product**: Catálogo de produtos e suas características\n",
        "- **df_zipcode**: Dados geográficos por CEP\n",
        "- **df_holiday**: Calendário de feriados para análise de sazonalidade\n",
        "\n",
        "> **Nota**: Os arquivos parquet oferecem melhor performance de leitura e compressão comparado a CSVs."
      ]
    },
    {
      "cell_type": "code",
      "execution_count": 2,
      "metadata": {
        "id": "JWbzM1FODf1A"
      },
      "outputs": [],
      "source": [
        "df_store = pl.read_parquet('../../data/raw/part-00000-tid-2779033056155408584-f6316110-4c9a-4061-ae48-69b77c7c8c36-4-1-c000.snappy.parquet')\n",
        "df_transaction = pl.read_parquet('../../data/raw/part-00000-tid-5196563791502273604-c90d3a24-52f2-4955-b4ec-fb143aae74d8-4-1-c000.snappy.parquet')\n",
        "df_product = pl.read_parquet('../../data/raw/part-00000-tid-7173294866425216458-eae53fbf-d19e-4130-ba74-78f96b9675f1-4-1-c000.snappy.parquet')\n",
        "df_zipcode = pl.read_csv('../../data/raw/georef-zipcode.csv', separator=';')\n",
        "df_holiday = pl.read_csv('../../data/processed/processed_usa_holiday.csv', separator=',')"
      ]
    },
    {
      "cell_type": "markdown",
      "metadata": {
        "id": "emZQSGMoD2fN"
      },
      "source": [
        "## 🔗 Unificação dos Datasets\n",
        "\n",
        "Processo de join entre os diferentes datasets para criar uma visão unificada dos dados:\n",
        "\n",
        "### Estratégia de Join:\n",
        "1. **Transações + Lojas**: Join por `internal_store_id` ↔ `pdv`\n",
        "2. **Resultado + Produtos**: Join por `internal_product_id` ↔ `produto`\n",
        "\n",
        "### Tipo de Join:\n",
        "- **Left Join**: Mantém todas as transações, mesmo que não tenham informações completas de loja/produto\n",
        "- Garante que nenhuma transação seja perdida no processo"
      ]
    },
    {
      "cell_type": "code",
      "execution_count": 3,
      "metadata": {
        "id": "50kNR3edoz-F"
      },
      "outputs": [],
      "source": [
        "df = df_transaction.join(\n",
        "    df_store,\n",
        "    left_on=\"internal_store_id\",\n",
        "    right_on=\"pdv\",\n",
        "    how='left'\n",
        ").join(\n",
        "    df_product,\n",
        "    left_on=\"internal_product_id\",\n",
        "    right_on=\"produto\",\n",
        "    how='left'\n",
        ")"
      ]
    },
    {
      "cell_type": "markdown",
      "metadata": {
        "id": "eRtfHKE6EHqz"
      },
      "source": [
        "## 🧹 Limpeza e Tratamento dos Dados\n",
        "\n",
        "Etapas essenciais para garantir a qualidade dos dados antes da modelagem."
      ]
    },
    {
      "cell_type": "markdown",
      "metadata": {
        "id": "BaerDLe8EM2p"
      },
      "source": [
        "### 🎯 Tratamento da Variável Target (Quantity)\n",
        "\n",
        "**Problema**: Valores negativos e decimais na quantidade vendida\n",
        "**Solução**: \n",
        "- Remover transações com quantidade negativa (devoluções/erros)\n",
        "- Arredondar valores decimais para inteiros (unidades de produtos)\n",
        "\n",
        "**Justificativa**: Quantidades negativas podem representar devoluções ou erros de sistema, que não são úteis para prever vendas futuras."
      ]
    },
    {
      "cell_type": "code",
      "execution_count": 4,
      "metadata": {
        "id": "W9ebElZSpRJf"
      },
      "outputs": [],
      "source": [
        "df = df.filter(df['quantity'] >= 0)\n",
        "df = df.with_columns(df['quantity'].round().cast(pl.Int64))"
      ]
    },
    {
      "cell_type": "markdown",
      "metadata": {
        "id": "snurt0Y0ykX7"
      },
      "source": [
        "### 📈 Tratamento de Outliers Extremos\n",
        "\n",
        "**Problema Identificado**: Data 2022-09-11 apresenta valores anômalos/outliers extremos\n",
        "**Impacto**: Outliers podem distorcer o treinamento do modelo\n",
        "**Estratégia**: Investigar e tratar valores anômalos dessa data específica\n",
        "\n",
        "> **Importante**: Outliers podem ser eventos promocionais legítimos ou erros de sistema. A análise deve distinguir entre ambos."
      ]
    },
    {
      "cell_type": "code",
      "execution_count": 5,
      "metadata": {
        "id": "vBkFAWAhyMdH"
      },
      "outputs": [],
      "source": [
        "# Remove from day 2022-09-11 the products with quantity greater than the percentile 75\n",
        "# and products appearing for the first time\n",
        "\n",
        "outlier_date = pl.lit('2022-09-11').str.to_date()\n",
        "\n",
        "outlier_products = df.filter(\n",
        "    pl.col('transaction_date') == outlier_date\n",
        ")['internal_product_id'].unique()\n",
        "\n",
        "normal_products = df.filter(\n",
        "    (pl.col('internal_product_id').is_in(outlier_products)) &\n",
        "    (pl.col('transaction_date') < outlier_date)\n",
        ")['internal_product_id'].unique()\n",
        "\n",
        "# Calculate the 75th percentile of quantity for the outlier date\n",
        "outlier_percentile_75 = df.filter(\n",
        "    pl.col('transaction_date') == outlier_date\n",
        ").select(\n",
        "    pl.col('quantity').quantile(0.75, interpolation='linear')\n",
        ").item()\n",
        "\n",
        "# Filter the DataFrame\n",
        "df = df.filter(\n",
        "    (pl.col('transaction_date') != outlier_date) |\n",
        "    (\n",
        "        pl.col('quantity').le(outlier_percentile_75) &\n",
        "        pl.col('internal_product_id').is_in(normal_products)\n",
        "    )\n",
        ")"
      ]
    },
    {
      "cell_type": "markdown",
      "metadata": {
        "id": "WtGuBbBfArc0"
      },
      "source": [
        "### 📅 Transformação de Features Temporais\n",
        "\n",
        "**Objetivo**: Extrair componentes temporais relevantes para capturar sazonalidade\n",
        "\n",
        "**Features Criadas**:\n",
        "- **month**: Mês da transação (1-12) - sazonalidade mensal\n",
        "- **week_of_year**: Semana do ano (0-53) - sazonalidade semanal\n",
        "\n",
        "**Importância**: Padrões sazonais são cruciais para previsão de vendas no varejo."
      ]
    },
    {
      "cell_type": "code",
      "execution_count": 6,
      "metadata": {
        "id": "fCPWBTbtpdFW"
      },
      "outputs": [],
      "source": [
        "df = df.with_columns([\n",
        "    pl.col('transaction_date').dt.month().alias('month'),\n",
        "    pl.col('transaction_date').dt.strftime(\"%U\").cast(pl.Int64).alias('week_of_year')\n",
        "])"
      ]
    },
    {
      "cell_type": "markdown",
      "metadata": {
        "id": "DTOfLA29EpvT"
      },
      "source": [
        "## ⚡ Engenharia de Features\n",
        "\n",
        "Processo de criação de features avançadas para melhorar a performance do modelo."
      ]
    },
    {
      "cell_type": "markdown",
      "metadata": {
        "id": "4246z2MRRRB2"
      },
      "source": [
        "### 🛠️ Configuração de Variáveis para Feature Engineering\n",
        "\n",
        "**Definição de Grupos de Variáveis**:\n",
        "- **cols**: Métricas numéricas (quantidade, valores, lucro)\n",
        "- **keys**: Variáveis categóricas e temporais\n",
        "- **Partições específicas**: Agrupamentos por cidade, PDV, produto\n",
        "\n",
        "**Estratégia**: Diferentes combinações de chaves para criar features agregadas específicas por contexto."
      ]
    },
    {
      "cell_type": "code",
      "execution_count": 7,
      "metadata": {
        "id": "sglVLVZrNxdB"
      },
      "outputs": [],
      "source": [
        "cols = ['quantity','gross_value','net_value','gross_profit','discount']\n",
        "keys = [\n",
        "    'internal_product_id', 'internal_store_id', 'distributor_id',\n",
        "    'premise', 'categoria_pdv', 'zipcode', 'tipos', 'label', 'subcategoria',\n",
        "    'marca', 'fabricante', 'month', 'week_of_year', 'city'\n",
        "]\n",
        "city_partition = ['internal_product_id', 'city']\n",
        "city_month_keys = ['internal_product_id', 'city', 'month']\n",
        "city_week_keys = ['internal_product_id', 'city', 'week_of_year']\n",
        "pdv_week_keys = ['internal_product_id', 'internal_store_id', 'week_of_year']\n",
        "product_city_partition = ['internal_product_id', 'city']\n",
        "product_pdv_partition = ['internal_product_id', 'internal_store_id']"
      ]
    },
    {
      "cell_type": "markdown",
      "metadata": {
        "id": "jc9coo1SElVp"
      },
      "source": [
        "### 🗺️ Enriquecimento Geográfico\n",
        "\n",
        "**Processo**: Adicionar informação de cidade através do CEP\n",
        "**Join**: `df` + `df_zipcode` por `zipcode`\n",
        "**Resultado**: Feature geográfica `city` para análise regional\n",
        "\n",
        "**Valor**: Permite capturar padrões de vendas por região geográfica."
      ]
    },
    {
      "cell_type": "code",
      "execution_count": 8,
      "metadata": {
        "id": "UTmYkCFDueJD"
      },
      "outputs": [],
      "source": [
        "df_zipcode = df_zipcode.rename({'Zip Code': 'zipcode', 'Official USPS city name': 'city'})\n",
        "df = df.join(df_zipcode.select(['zipcode', 'city']), on='zipcode', how='left')"
      ]
    },
    {
      "cell_type": "markdown",
      "metadata": {
        "id": "4iSv4JOpGiHP"
      },
      "source": [
        "### 🎉 Tratamento de Feriados\n",
        "\n",
        "**Processo**: Criar feature binária para identificar feriados\n",
        "**Transformação**: \n",
        "- Converter string de data para formato date\n",
        "- Criar flag `holiday = 1` para datas de feriado\n",
        "\n",
        "**Importância**: Feriados têm impacto significativo nos padrões de vendas do varejo."
      ]
    },
    {
      "cell_type": "code",
      "execution_count": 9,
      "metadata": {
        "id": "mrKRfkiWGhq1"
      },
      "outputs": [],
      "source": [
        "df_holiday = df_holiday.with_columns([\n",
        "    pl.col('Date').str.to_date().alias('Date'),\n",
        "    pl.lit(1).alias('holiday')\n",
        "])\n",
        "\n",
        "df = df.join(\n",
        "    df_holiday.select(['Date', 'holiday']),\n",
        "    left_on='transaction_date',\n",
        "    right_on='Date',\n",
        "    how='left'\n",
        ")\n",
        "\n",
        "df = df.with_columns(\n",
        "    pl.col('holiday').fill_null(0)\n",
        ")"
      ]
    },
    {
      "cell_type": "markdown",
      "metadata": {
        "id": "TvFGzF-OSY_O"
      },
      "source": [
        "### 🗑️ Remoção de Colunas Desnecessárias\n",
        "\n",
        "**Colunas Removidas**:\n",
        "- `taxes`: Não relevante para previsão de quantidade\n",
        "- `categoria`: Redundante com outras categorizações\n",
        "- `descricao`: Texto livre, dificulta modelagem\n",
        "- `reference_date`, `transaction_date`: Já extraímos features temporais\n",
        "\n",
        "**Objetivo**: Simplificar dataset mantendo apenas features relevantes."
      ]
    },
    {
      "cell_type": "code",
      "execution_count": null,
      "metadata": {
        "id": "WJZmUBH1Sarn"
      },
      "outputs": [],
      "source": [
        "df = df.drop(['taxes','categoria','descricao','reference_date', 'transaction_date'])"
      ]
    },
    {
      "cell_type": "markdown",
      "metadata": {
        "id": "YEs1OM-3MjQm"
      },
      "source": [
        "### 📊 Features de Histórico Mensal\n",
        "\n",
        "**Objetivo**: Criar features de vendas do mês anterior por produto/cidade\n",
        "**Agregações**: Soma mensal de quantidade, valores, lucro e desconto\n",
        "**Lag**: Shift de 1 mês para capturar tendência histórica\n",
        "\n",
        "**Features Criadas**:\n",
        "- `previous_month_quantity_sum`: Quantidade vendida no mês anterior\n",
        "- `previous_month_gross_value_sum`: Valor bruto do mês anterior\n",
        "- `previous_month_net_value_sum`: Valor líquido do mês anterior\n",
        "- E outras métricas mensais históricas\n",
        "\n",
        "**Importância**: Histórico recente é forte preditor de vendas futuras."
      ]
    },
    {
      "cell_type": "code",
      "execution_count": 10,
      "metadata": {
        "id": "IXNfXpxSMwyD"
      },
      "outputs": [],
      "source": [
        "monthly_aggs = []\n",
        "for c in cols:\n",
        "    monthly_aggs += [\n",
        "        pl.col(c).sum().alias(f\"monthly_{c}_sum\"),\n",
        "    ]\n",
        "\n",
        "monthly_totals = df.group_by(city_month_keys).agg(monthly_aggs)\n",
        "\n",
        "monthly_shifts = []\n",
        "monthly_shifts_names = []\n",
        "for c in cols:\n",
        "    monthly_shifts += [\n",
        "        pl.col(f\"monthly_{c}_sum\").shift(n=1).over(product_city_partition).alias(f\"previous_month_{c}_sum\"),\n",
        "    ]\n",
        "    monthly_shifts_names += [\n",
        "        f\"previous_month_{c}_sum\",\n",
        "    ]\n",
        "\n",
        "previous_month_values = monthly_totals.sort(city_month_keys).with_columns(monthly_shifts)"
      ]
    },
    {
      "cell_type": "markdown",
      "metadata": {
        "id": "yQ8mdMBvNHzU"
      },
      "source": [
        "### 📈 Features de Lag Semanal\n",
        "\n",
        "**Objetivo**: Capturar padrão semanal de vendas por produto/PDV\n",
        "**Lags Criados**: 5 semanas anteriores (`quantity_lag1` a `quantity_lag5`)\n",
        "**Granularidade**: Por produto + PDV específico\n",
        "\n",
        "**Uso**: \n",
        "- Detectar tendências de curto prazo\n",
        "- Capturar sazonalidade semanal\n",
        "- Identificar produtos em alta/baixa\n",
        "\n",
        "**Valor**: Lags de curto prazo são essenciais para capturar momentum de vendas."
      ]
    },
    {
      "cell_type": "code",
      "execution_count": 18,
      "metadata": {
        "id": "WIUj3AAiNHAf"
      },
      "outputs": [],
      "source": [
        "quantity_totals = df.group_by(pdv_week_keys).agg(\n",
        "    pl.col('quantity').sum().alias('quantity')\n",
        ")\n",
        "\n",
        "quantity_shifts = [\n",
        "    pl.col(\"quantity\").shift(n=i).over(\n",
        "        product_pdv_partition\n",
        "    ).alias(f\"quantity_lag{i}\") for i in range(1, 6)\n",
        "]\n",
        "quantity_shifts_names = [\n",
        "    f\"quantity_lag{i}\" for i in range(1, 6)\n",
        "]\n",
        "\n",
        "previous_quantity_values = quantity_totals.sort(pdv_week_keys).with_columns(quantity_shifts)"
      ]
    },
    {
      "cell_type": "markdown",
      "metadata": {
        "id": "pl2GEwS6c7sZ"
      },
      "source": [
        "### 🔗 Consolidação Final dos Dados\n",
        "\n",
        "**Processo**:\n",
        "1. **Agregação Principal**: Agrupar por todas as chaves categóricas e temporais\n",
        "2. **Join Histórico Mensal**: Adicionar features do mês anterior\n",
        "3. **Join Lags Semanais**: Adicionar lags de quantidade semanal\n",
        "4. **Features Derivadas**: Calcular métricas financeiras (discount_rate, profit_margin)\n",
        "\n",
        "**Features Derivadas Criadas**:\n",
        "- `discount_rate_month`: Taxa de desconto do mês anterior\n",
        "- `profit_margin_month`: Margem de lucro do mês anterior\n",
        "\n",
        "**Resultado**: Dataset final pronto para modelagem com todas as features de engenharia."
      ]
    },
    {
      "cell_type": "code",
      "execution_count": 19,
      "metadata": {
        "id": "pZN7eKekc7aL"
      },
      "outputs": [],
      "source": [
        "df = df.group_by(keys).agg([\n",
        "    pl.col(\"quantity\").sum().alias(\"quantity\"),\n",
        "    pl.col(\"holiday\").max().alias(\"holiday\")\n",
        "]).join(\n",
        "    previous_month_values.select(city_month_keys + monthly_shifts_names),\n",
        "    on=city_month_keys,\n",
        "    how=\"left\"\n",
        ").join(\n",
        "    previous_quantity_values.select(pdv_week_keys + quantity_shifts_names),\n",
        "    on=pdv_week_keys,\n",
        "    how=\"left\"\n",
        ").with_columns([\n",
        "    (pl.col('previous_month_discount_sum') / pl.col('previous_month_gross_value_sum')).fill_null(0).replace([np.inf, -np.inf], 0).alias('discount_rate_month'),\n",
        "    (pl.col('previous_month_gross_profit_sum') / pl.col('previous_month_gross_value_sum')).fill_null(0).replace([np.inf, -np.inf], 0).alias('profit_margin_month')\n",
        "])"
      ]
    },
    {
      "cell_type": "markdown",
      "metadata": {
        "id": "RUcaohTjE5yn"
      },
      "source": [
        "## 💾 Salvando Dados Processados\n",
        "\n",
        "**Formato**: Parquet para otimização de performance\n",
        "**Localização**: `../../data/processed/processed_data.parquet`\n",
        "**Conteúdo**: Dataset final com todas as transformações e features de engenharia\n",
        "\n",
        "**Próximos Passos**: Os dados processados estão prontos para serem utilizados nos notebooks de modelagem (`02_models/`)."
      ]
    },
    {
      "cell_type": "code",
      "execution_count": 26,
      "metadata": {
        "id": "PEiBMs7ru_c4"
      },
      "outputs": [],
      "source": [
        "df.write_parquet('../../data/processed/processed_data.parquet')"
      ]
    }
  ],
  "metadata": {
    "colab": {
      "provenance": []
    },
    "kernelspec": {
      "display_name": "Python 3",
      "name": "python3"
    },
    "language_info": {
      "name": "python"
    }
  },
  "nbformat": 4,
  "nbformat_minor": 0
}
