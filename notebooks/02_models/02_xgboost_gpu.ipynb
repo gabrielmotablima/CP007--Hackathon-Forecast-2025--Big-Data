{
 "cells": [
  {
   "cell_type": "markdown",
   "id": "703f0c27",
   "metadata": {},
   "source": [
    "# LOADING LIBS AND MODULES"
   ]
  },
  {
   "cell_type": "code",
   "execution_count": null,
   "id": "d2285e3c",
   "metadata": {},
   "outputs": [],
   "source": [
    "# core\n",
    "import numpy as np\n",
    "import pandas as pd\n",
    "import datetime as dt\n",
    "import yaml\n",
    "import pickle\n",
    "\n",
    "# explainability\n",
    "# import shap\n",
    "\n",
    "# modeling\n",
    "from sklearn.model_selection import TimeSeriesSplit\n",
    "from sklearn.pipeline import Pipeline\n",
    "\n",
    "# models\n",
    "from xgboost import XGBRegressor\n",
    "\n",
    "# otm\n",
    "import optuna\n",
    "\n",
    "# our functions\n",
    "import utils_gpu\n",
    "\n",
    "import warnings\n",
    "warnings.filterwarnings('ignore')"
   ]
  },
  {
   "cell_type": "markdown",
   "id": "21530e28",
   "metadata": {},
   "source": [
    "# LOADING THE PARAMETER CONFIGURATION FILE"
   ]
  },
  {
   "cell_type": "code",
   "execution_count": null,
   "id": "1eacba91",
   "metadata": {},
   "outputs": [],
   "source": [
    "# loading up the YAML dictionary that contains all the parameters for the model\n",
    "with open(\"model_params.yml\", \"r\") as f:\n",
    "    configs = yaml.safe_load(f)"
   ]
  },
  {
   "cell_type": "markdown",
   "id": "83ede82d",
   "metadata": {},
   "source": [
    "# SETTING UP DEFAULTS AND PARAMETERS"
   ]
  },
  {
   "cell_type": "code",
   "execution_count": null,
   "id": "64e74cca",
   "metadata": {},
   "outputs": [],
   "source": [
    "# showing all columns in a pandas dataframe\n",
    "pd.options.display.max_columns = None\n",
    "\n",
    "# extracting the keys associated with the parameters\n",
    "RANDOM_STATE = configs['RANDOM_STATE']\n",
    "NUMBER_OF_FOLDS = configs['NUMBER_OF_FOLDS']\n",
    "STRATIFICATION = configs['STRATIFICATION']\n",
    "FEATURE_STRATIFICATION = configs['FEATURE_STRATIFICATION']\n",
    "EVAL_FEATURES = configs['EVAL_FEATURES']\n",
    "\n",
    "FEATURE_COLUMNS = configs['FEATURES']\n",
    "LABEL_COLUMNS = configs['TARGET']\n",
    "\n",
    "PREPROCESSING = configs['PREPROCESSING']\n",
    "\n",
    "# OPTUNA AND MODEL PARAMS\n",
    "OPTUNA_PARAMS = configs['OPTUNA_PARAMS']\n",
    "MODEL_RANGE_PARAMS = OPTUNA_PARAMS['MODEL']\n",
    "\n",
    "# SHAP PARAMS\n",
    "SHAP_PARMS = configs['SHAP_PARAMS']\n",
    "SHAP_SAMPLE = SHAP_PARMS['SHAP_SAMPLE']"
   ]
  },
  {
   "cell_type": "markdown",
   "id": "b3ac4e26",
   "metadata": {},
   "source": [
    "# LOADING THE DATA"
   ]
  },
  {
   "cell_type": "code",
   "execution_count": null,
   "id": "ef02f5ca",
   "metadata": {},
   "outputs": [],
   "source": [
    "print(\"Loading the dataset containing the training data for the demand forecasting model.\")\n",
    "df = pd.read_parquet('../../data/processed/processed_data.parquet')\n",
    "df['week_of_year'] = df['week_of_year'].astype(int)\n",
    "df = df.sort_values([\"internal_product_id\", \"internal_store_id\", \"week_of_year\"]).reset_index(drop=True)\n",
    "print(f\"The dataset contains {df.shape[0]} rows and {df.shape[1]} columns.\")"
   ]
  },
  {
   "cell_type": "code",
   "execution_count": null,
   "id": "404ac3c5",
   "metadata": {},
   "outputs": [],
   "source": [
    "df_holiday = pd.read_csv('../../data/processed/processed_usa_holiday.csv')\n",
    "\n",
    "df_holiday['Date'] = pd.to_datetime(df_holiday.Date)\n",
    "df_holiday['week_of_year'] = df_holiday.Date.dt.strftime(\"%U\").astype(int)\n",
    "df_holiday['holiday'] = 1"
   ]
  },
  {
   "cell_type": "code",
   "execution_count": null,
   "id": "f51b9f27",
   "metadata": {},
   "outputs": [],
   "source": [
    "df = df.merge(right = df_holiday.loc[df_holiday.Date.dt.year == 2022, ['week_of_year','holiday']], how='left', on='week_of_year')\n",
    "df['holiday'] = df['holiday'].fillna(0)"
   ]
  },
  {
   "cell_type": "code",
   "execution_count": null,
   "id": "dd67b754",
   "metadata": {},
   "outputs": [],
   "source": [
    "# transforming columns\n",
    "df['premise'] = df['premise'].map({'online': 1, 'fisica': 0})"
   ]
  },
  {
   "cell_type": "code",
   "execution_count": null,
   "id": "b9d80807",
   "metadata": {},
   "outputs": [],
   "source": [
    "# Fill NaN values in \"_sum\" columns\n",
    "cols_sum = df.columns[df.columns.str.contains(\"sum\")]\n",
    "df[cols_sum] = df[cols_sum].fillna(0)"
   ]
  },
  {
   "cell_type": "code",
   "execution_count": null,
   "id": "b8f24938",
   "metadata": {},
   "outputs": [],
   "source": [
    "# impact of proportions\n",
    "df['discount_rate_month'] = (df['previous_month_discount_sum'] / df['previous_month_gross_value_sum']).fillna(0)\n",
    "df['discount_rate_month'] = df['discount_rate_month'].replace([np.inf, -np.inf], 0)\n",
    "\n",
    "df['profit_margin_month'] = (df['previous_month_gross_profit_sum'] / df['previous_month_gross_value_sum']).fillna(0)\n",
    "df['profit_margin_month'] = df['profit_margin_month'].replace([np.inf, -np.inf], 0)\n",
    "\n",
    "# trends\n",
    "grp = df.groupby(['internal_product_id','internal_store_id'])\n",
    "\n",
    "df['quantity_lag1'] = grp['quantity'].shift(1)\n",
    "df['quantity_lag2'] = grp['quantity'].shift(2)\n",
    "df['quantity_lag3'] = grp['quantity'].shift(3)\n",
    "df['quantity_lag4'] = grp['quantity'].shift(4)\n",
    "df['quantity_lag5'] = grp['quantity'].shift(5)"
   ]
  },
  {
   "cell_type": "markdown",
   "id": "a7252a21",
   "metadata": {},
   "source": [
    "# SEPARATING THE FEATURES BY TYPE"
   ]
  },
  {
   "cell_type": "code",
   "execution_count": null,
   "id": "ffe99bd7",
   "metadata": {},
   "outputs": [],
   "source": [
    "# mapping which columns should be treated as numerical columns - excluding cyclical features\n",
    "NUMERIC_COLUMNS = [column for column in df[FEATURE_COLUMNS].select_dtypes(np.number).columns if column not in PREPROCESSING['CYCLICAL_FEATURES'].keys()]\n",
    "# mapping which columns should be treated as categorical columns\n",
    "CATEGORICAL_COLUMNS = [column for column in df[FEATURE_COLUMNS].select_dtypes('object').columns]"
   ]
  },
  {
   "cell_type": "markdown",
   "id": "9a51143d",
   "metadata": {},
   "source": [
    "# SPLITTING THE DATA"
   ]
  },
  {
   "cell_type": "markdown",
   "id": "ffa274d5",
   "metadata": {},
   "source": [
    "### Mapping which instances should be placed in the train and test splits"
   ]
  },
  {
   "cell_type": "code",
   "execution_count": null,
   "id": "cf4e6d76",
   "metadata": {},
   "outputs": [],
   "source": [
    "# splitting the data into training and testing sets\n",
    "# training set: all data before December 2022\n",
    "X_train = df.loc[df.month != 12, FEATURE_COLUMNS]\n",
    "y_train = df.loc[df.month != 12, [LABEL_COLUMNS]]\n",
    "# test set: all data from December 2022 onwards\n",
    "X_test = df.loc[df.month == 12, FEATURE_COLUMNS]\n",
    "y_test = df.loc[df.month == 12, [LABEL_COLUMNS]]"
   ]
  },
  {
   "cell_type": "markdown",
   "id": "650c722c",
   "metadata": {},
   "source": [
    "### Creating the cross validation folds"
   ]
  },
  {
   "attachments": {
    "image.png": {
     "image/png": "[encoded data removed]"
    }
   },
   "cell_type": "markdown",
   "id": "ec7d2feb",
   "metadata": {},
   "source": [
    "![image.png](attachment:image.png)"
   ]
  },
  {
   "cell_type": "code",
   "execution_count": null,
   "id": "7bc14d66",
   "metadata": {},
   "outputs": [],
   "source": [
    "# creating the stratified k fold instance\n",
    "tscv = TimeSeriesSplit(n_splits=NUMBER_OF_FOLDS)"
   ]
  },
  {
   "cell_type": "markdown",
   "id": "0eea75f6",
   "metadata": {},
   "source": [
    "## TRAINING WITH CROSS VALIDATION"
   ]
  },
  {
   "cell_type": "markdown",
   "id": "843923de",
   "metadata": {},
   "source": [
    "### OTM Hyperparams Optuna"
   ]
  },
  {
   "cell_type": "code",
   "execution_count": null,
   "id": "683b3896",
   "metadata": {},
   "outputs": [],
   "source": [
    "def defining_hyperparams(trial, hyperparam_ranges):\n",
    "    v1 = trial.suggest_int('max_depth', hyperparam_ranges['max_depth'][0], hyperparam_ranges['max_depth'][1], log=hyperparam_ranges['max_depth'][2])\n",
    "    v2 = trial.suggest_int('n_estimators', hyperparam_ranges['n_estimators'][0], hyperparam_ranges['n_estimators'][1], log=hyperparam_ranges['n_estimators'][2])\n",
    "    v3 = trial.suggest_float('learning_rate', hyperparam_ranges['learning_rate'][0], hyperparam_ranges['learning_rate'][1], log=hyperparam_ranges['learning_rate'][2])\n",
    "    v4 = trial.suggest_float('reg_alpha', hyperparam_ranges['reg_alpha'][0], hyperparam_ranges['reg_alpha'][1], log=hyperparam_ranges['reg_alpha'][2])\n",
    "    v5 = trial.suggest_float('reg_lambda', hyperparam_ranges['reg_lambda'][0], hyperparam_ranges['reg_lambda'][1], log=hyperparam_ranges['reg_lambda'][2])\n",
    "    v6 = trial.suggest_float('min_child_weight', hyperparam_ranges['min_child_weight'][0], hyperparam_ranges['min_child_weight'][1], log=hyperparam_ranges['min_child_weight'][2])\n",
    "    v7 = trial.suggest_float('subsample', hyperparam_ranges['subsample'][0], hyperparam_ranges['subsample'][1], log=hyperparam_ranges['subsample'][2])\n",
    "    v8 = trial.suggest_float('colsample_bytree', hyperparam_ranges['colsample_bytree'][0], hyperparam_ranges['colsample_bytree'][1], log=hyperparam_ranges['colsample_bytree'][2])\n",
    "    return {'max_depth':v1, 'n_estimators':v2, 'learning_rate':v3, 'reg_alpha':v4,\n",
    "            'reg_lambda':v5, 'min_child_weight':v6, 'subsample':v7, 'colsample_bytree':v8}"
   ]
  },
  {
   "cell_type": "code",
   "execution_count": null,
   "id": "65a57e4e",
   "metadata": {},
   "outputs": [],
   "source": [
    "# Configuring and execute the study\n",
    "study = optuna.create_study(study_name='best_model', directions=[OPTUNA_PARAMS['DIRECTION'], OPTUNA_PARAMS['DIRECTION']])\n",
    "study.set_metric_names([\"score_validation\", \"score_overfitting\"])\n",
    "\n",
    "study.optimize(utils_gpu.create_objective_function(hyperparam_ranges        = MODEL_RANGE_PARAMS,\n",
    "                                            tscv                            = tscv,\n",
    "                                            x_data                          = [X_train,y_train],\n",
    "                                            regressor_model                 = XGBRegressor,\n",
    "                                            columns_to_use                  = [FEATURE_COLUMNS, LABEL_COLUMNS, NUMERIC_COLUMNS, CATEGORICAL_COLUMNS],\n",
    "                                            eval_features                   = EVAL_FEATURES,\n",
    "                                            preprocessing                   = PREPROCESSING,\n",
    "                                            random_state                    = RANDOM_STATE,\n",
    "                                            defining_hyperparams_function   = defining_hyperparams,\n",
    "                                            multi_scores                    = True),\n",
    "                                            n_trials                        = OPTUNA_PARAMS['TRIALS']\n",
    ")"
   ]
  },
  {
   "cell_type": "code",
   "execution_count": null,
   "id": "adb1fc04",
   "metadata": {},
   "outputs": [],
   "source": [
    "# saving best params of otm optuna into variable\n",
    "_, best_params = utils_gpu.get_best_params(study)\n",
    "print(best_params)"
   ]
  },
  {
   "cell_type": "markdown",
   "id": "348415ad",
   "metadata": {},
   "source": [
    "## TRAINING WITH BEST PARAMS"
   ]
  },
  {
   "cell_type": "code",
   "execution_count": null,
   "id": "8040ff0f",
   "metadata": {},
   "outputs": [],
   "source": [
    "# dataframe with the predictions and expected values\n",
    "df_results = pd.DataFrame()\n",
    "\n",
    "# dataframe to hold important features of models\n",
    "df_feature_importances = pd.DataFrame()\n",
    "\n",
    "# dictionary to hold the cross validation results from each fold"
   ]
  },
  {
   "cell_type": "markdown",
   "id": "a9ee4401",
   "metadata": {},
   "source": [
    "## FITTING THE MODEL THE LAST TIME"
   ]
  },
  {
   "cell_type": "markdown",
   "id": "99e21448",
   "metadata": {},
   "source": [
    "### Re-creating the pre-processing pipeline"
   ]
  },
  {
   "cell_type": "code",
   "execution_count": null,
   "id": "376816a3",
   "metadata": {},
   "outputs": [],
   "source": [
    "pipe_preproc = utils_gpu.create_preprocessing_pipeline(preprocessing_configs=PREPROCESSING, numeric_columns=NUMERIC_COLUMNS, categorical_columns=CATEGORICAL_COLUMNS)"
   ]
  },
  {
   "cell_type": "markdown",
   "id": "241b7dd9",
   "metadata": {},
   "source": [
    "### Fitting the model  to the training data"
   ]
  },
  {
   "cell_type": "code",
   "execution_count": null,
   "id": "373f4ac5",
   "metadata": {},
   "outputs": [],
   "source": [
    "pipeline = Pipeline(steps=[\n",
    "    ('preprocessor', pipe_preproc), ('model', XGBRegressor(random_state=RANDOM_STATE, device='cuda', tree_method='hist'))\n",
    "])\n",
    "\n",
    "# training the model\n",
    "pipeline.fit(X_train.loc[:, FEATURE_COLUMNS], y_train.loc[:, LABEL_COLUMNS].values.ravel())"
   ]
  },
  {
   "cell_type": "markdown",
   "id": "9c47333b",
   "metadata": {},
   "source": [
    "### Evaluating model performance"
   ]
  },
  {
   "cell_type": "code",
   "execution_count": null,
   "id": "47700242",
   "metadata": {},
   "outputs": [],
   "source": [
    "import xgboost as xgb\n",
    "\n",
    "# Helper para prever via Booster + DMatrix (sem fallback)\n",
    "def _to_dense(X):\n",
    "    # scipy.sparse -> denso; mantém DataFrame quando possível\n",
    "    if hasattr(X, \"toarray\"):   # matriz esparsa\n",
    "        return X.toarray()\n",
    "    return X\n",
    "\n",
    "def predict_gpu(pipeline, X, keep_feature_names=True):\n",
    "    pre = pipeline.named_steps['preprocessor']\n",
    "    bst = pipeline.named_steps['model'].get_booster()\n",
    "\n",
    "    Xp = pre.transform(X)          # aplica o pré-processamento (já fitado)\n",
    "    Xp = _to_dense(Xp)\n",
    "\n",
    "    if keep_feature_names and hasattr(Xp, \"columns\"):\n",
    "        dmat = xgb.DMatrix(Xp, feature_names=list(Xp.columns))\n",
    "        return bst.predict(dmat)   # validate_features=True (padrão)\n",
    "    else:\n",
    "        dmat = xgb.DMatrix(Xp)\n",
    "        return bst.predict(dmat, validate_features=False)\n",
    "\n",
    "# Reconstituir dataframes de avaliação\n",
    "X_train_full = df.loc[X_train.index].copy()\n",
    "X_test_full  = df.loc[X_test.index].copy()\n",
    "train = X_train_full.loc[:, EVAL_FEATURES + [LABEL_COLUMNS]].copy()\n",
    "test  = X_test_full.loc[:,  EVAL_FEATURES + [LABEL_COLUMNS]].copy()\n",
    "\n",
    "# Predições (GPU)\n",
    "train['predicted'] = predict_gpu(pipeline, X_train.loc[:, FEATURE_COLUMNS])\n",
    "test['predicted']  = predict_gpu(pipeline,  X_test.loc[:,  FEATURE_COLUMNS])\n",
    "\n",
    "train['predicted_rounded'] = np.round(train['predicted'].values).astype(np.int32)\n",
    "test['predicted_rounded'] = np.round(test['predicted'].values).astype(np.int32)"
   ]
  },
  {
   "cell_type": "code",
   "execution_count": null,
   "id": "ee8a73fc",
   "metadata": {},
   "outputs": [],
   "source": [
    "# calculating the error for the training and test sets\n",
    "error_train = utils_gpu.wmape_score(y_true = train[LABEL_COLUMNS].values, y_pred = train['predicted'].values)\n",
    "error_test = utils_gpu.wmape_score(y_true = test[LABEL_COLUMNS].values, y_pred = test['predicted'].values)\n",
    "\n",
    "error_train_rounded = utils_gpu.wmape_score(y_true = train[LABEL_COLUMNS].values, y_pred = train['predicted_rounded'].values)\n",
    "error_test_rounded = utils_gpu.wmape_score(y_true = test[LABEL_COLUMNS].values, y_pred = test['predicted_rounded'].values)\n",
    "\n",
    "print(f\"WMAPE Train: {error_train:.3f}%\")\n",
    "print(f\"WMAPE Test: {error_test:.3f}%\")\n",
    "\n",
    "print(f\"WMAPE Train Rounded: {error_train_rounded:.3f}%\")\n",
    "print(f\"WMAPE Test Rounded: {error_test_rounded:.3f}%\")"
   ]
  },
  {
   "cell_type": "markdown",
   "id": "064b99db",
   "metadata": {},
   "source": [
    "## SAVING RESULTS"
   ]
  },
  {
   "cell_type": "code",
   "execution_count": null,
   "id": "c9982589",
   "metadata": {},
   "outputs": [],
   "source": [
    "import os\n",
    "import json\n",
    "\n",
    "output_directory = f\"outputs/{dt.datetime.now().strftime(format= '%Y%m%d%H%M')}_XGBOOST/\"\n",
    "output_model_directory = output_directory + 'model'\n",
    "output_data_directory = output_directory + 'data'\n",
    "output_params_directory = output_directory + 'params'\n",
    "output_optuna_directory = output_directory + 'study'\n",
    "\n",
    "for directory in [output_model_directory, output_data_directory, output_params_directory, output_params_directory, output_optuna_directory]:\n",
    "    if not os.path.exists(directory):\n",
    "        os.makedirs(directory)"
   ]
  },
  {
   "cell_type": "code",
   "execution_count": null,
   "id": "12b8ee1f",
   "metadata": {},
   "outputs": [],
   "source": [
    "# saving the json dictionary with the parameters\n",
    "with open(f'{output_params_directory}/exepriment_params.json', 'w') as f:\n",
    "    configs_all = {**configs, **best_params}\n",
    "    json.dump(configs_all, f, indent=4)\n",
    "\n",
    "# datasets\n",
    "X_train.to_parquet(f'{output_data_directory}/training_set.parquet', index=False)\n",
    "X_test.to_parquet(f'{output_data_directory}/test_set.parquet', index=False)\n",
    "\n",
    "# pipeline\n",
    "with open(f'{output_model_directory}/pipeline.pkl', 'wb') as f:\n",
    "    pickle.dump(pipeline, f)\n",
    "\n",
    "# saving study\n",
    "with open(f'{output_optuna_directory}/best_metric_study.pkl', 'wb') as f:\n",
    "    pickle.dump(study, f)"
   ]
  },
  {
   "cell_type": "code",
   "execution_count": null,
   "id": "d4bd8bd4",
   "metadata": {},
   "outputs": [],
   "source": []
  }
 ],
 "metadata": {
  "kernelspec": {
   "display_name": ".venv",
   "language": "python",
   "name": "python3"
  },
  "language_info": {
   "codemirror_mode": {
    "name": "ipython",
    "version": 3
   },
   "file_extension": ".py",
   "mimetype": "text/x-python",
   "name": "python",
   "nbconvert_exporter": "python",
   "pygments_lexer": "ipython3",
   "version": "3.10.11"
  }
 },
 "nbformat": 4,
 "nbformat_minor": 5
}
