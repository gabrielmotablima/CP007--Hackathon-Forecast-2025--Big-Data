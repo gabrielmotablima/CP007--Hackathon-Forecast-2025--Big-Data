{
 "cells": [
  {
   "cell_type": "code",
   "execution_count": null,
   "id": "28607d68",
   "metadata": {},
   "outputs": [],
   "source": [
    "import pandas as pd\n",
    "pd.set_option('display.max_columns', None)"
   ]
  },
  {
   "cell_type": "markdown",
   "id": "d80506f3",
   "metadata": {},
   "source": [
    "## LEITURA DE DADOS"
   ]
  },
  {
   "cell_type": "code",
   "execution_count": null,
   "id": "3504af49",
   "metadata": {},
   "outputs": [],
   "source": [
    "df_store = pd.read_parquet('../../data/raw/part-00000-tid-2779033056155408584-f6316110-4c9a-4061-ae48-69b77c7c8c36-4-1-c000.snappy.parquet', engine=\"fastparquet\")\n",
    "df_transaction = pd.read_parquet('../../data/raw/part-00000-tid-5196563791502273604-c90d3a24-52f2-4955-b4ec-fb143aae74d8-4-1-c000.snappy.parquet', engine=\"fastparquet\")\n",
    "df_product = pd.read_parquet('../../data/raw/part-00000-tid-7173294866425216458-eae53fbf-d19e-4130-ba74-78f96b9675f1-4-1-c000.snappy.parquet', engine=\"fastparquet\")\n",
    "df_zipcode = pd.read_csv('../../data/raw/georef-zipcode.csv', sep=';')"
   ]
  },
  {
   "cell_type": "markdown",
   "id": "1bc8a84f",
   "metadata": {},
   "source": [
    "## UNIFIYNG DATASETS"
   ]
  },
  {
   "cell_type": "code",
   "execution_count": null,
   "id": "f688aa73",
   "metadata": {},
   "outputs": [],
   "source": [
    "df = df_transaction.set_index(\"internal_store_id\").join(\n",
    "    other=df_store.set_index(\"pdv\"),\n",
    "    how='left'\n",
    ").reset_index().set_index(\"internal_product_id\").join(\n",
    "    other=df_product.set_index(\"produto\"),\n",
    "    how='left'\n",
    ").reset_index()"
   ]
  },
  {
   "cell_type": "markdown",
   "id": "ecac14ba",
   "metadata": {},
   "source": [
    "## INITIAL IDEAS"
   ]
  },
  {
   "cell_type": "markdown",
   "id": "168edb0f",
   "metadata": {},
   "source": [
    "1. Create a unique identifier for `internal_store_id`, `internal_product_id`, and `week (transaction_date.dt.week);\n",
    "2. Target: `quantity`;\n",
    "3. Columns not to use:\n",
    "- `net_value` or `taxes`;\n",
    "- `description`.\n",
    "4. Drop negative values from `quantity` and rounding float values;\n",
    "5. Round float values from `quantity`;\n",
    "10. Important notes:\n",
    "- Use `types` instead of `category`, as it is a column that has the same categories with some differences that make alcoholic products a little more specific, which can influence sales.\n",
    "- Analyze the correlation matrix focused on the gross/net profit variables.\n",
    "- 667 internal_store_ids are not in df_store. If we use them, we must fill the NaN columns as Unknown for the characteristics of this POS in the preprocessor within our pipeline.\n",
    "- To use zipcode, remember to create segments and categorize the column."
   ]
  },
  {
   "cell_type": "markdown",
   "id": "84851a4f",
   "metadata": {},
   "source": [
    "## DATA WRANGLING"
   ]
  },
  {
   "cell_type": "code",
   "execution_count": null,
   "id": "dc29f927",
   "metadata": {},
   "outputs": [],
   "source": [
    "df.groupby('transaction_date').size().reset_index(name='counts').sort_values(by='counts')"
   ]
  },
  {
   "cell_type": "markdown",
   "id": "c5ba9f57",
   "metadata": {},
   "source": [
    "### Dropping negative and rounding values from quantity"
   ]
  },
  {
   "cell_type": "code",
   "execution_count": null,
   "id": "f35828cc",
   "metadata": {},
   "outputs": [],
   "source": [
    "df = df[df.quantity >= 0]\n",
    "df['quantity'] = df['quantity'].round().astype(int)"
   ]
  },
  {
   "cell_type": "markdown",
   "id": "8726c06f",
   "metadata": {},
   "source": [
    "### Dropping some columns"
   ]
  },
  {
   "cell_type": "code",
   "execution_count": null,
   "id": "a76ff808",
   "metadata": {},
   "outputs": [],
   "source": [
    "df.drop(columns=['taxes','categoria','descricao','reference_date'], inplace=True)"
   ]
  },
  {
   "cell_type": "markdown",
   "id": "28baa77d",
   "metadata": {},
   "source": [
    "### Transform temporal features"
   ]
  },
  {
   "cell_type": "code",
   "execution_count": null,
   "id": "f2c0cf2d",
   "metadata": {},
   "outputs": [],
   "source": [
    "df.loc[:,'transaction_date'] = pd.to_datetime(df['transaction_date'])\n",
    "df.loc[:,'day_of_week'] = df.loc[:,'transaction_date'].dt.dayofweek\n",
    "df.loc[:,'month'] = df.loc[:,'transaction_date'].dt.month\n",
    "df.loc[:,'week_of_year'] = df.loc[:,'transaction_date'].dt.isocalendar().week"
   ]
  },
  {
   "cell_type": "markdown",
   "id": "2f2f472b",
   "metadata": {},
   "source": [
    "### Finding city by zipcode"
   ]
  },
  {
   "cell_type": "code",
   "execution_count": null,
   "id": "87705e66",
   "metadata": {},
   "outputs": [],
   "source": [
    "df_zipcode.rename(columns={'Zip Code': 'zipcode', 'Official USPS city name': 'city'}, inplace=True)\n",
    "df = df.merge(df_zipcode.loc[:, ['zipcode','city']], on='zipcode', how='left')"
   ]
  },
  {
   "cell_type": "markdown",
   "id": "c99d6133",
   "metadata": {},
   "source": [
    "## FEATURE ENGINEERING"
   ]
  },
  {
   "cell_type": "markdown",
   "id": "a2e8386c",
   "metadata": {},
   "source": [
    "### Creating Average number of skus purchased per city month"
   ]
  },
  {
   "cell_type": "code",
   "execution_count": null,
   "id": "f9cf0676",
   "metadata": {},
   "outputs": [],
   "source": [
    "# Creating Average number of skus purchased per city and month\n",
    "df_dict_month = df.loc[:,['internal_product_id', 'city', 'month', 'quantity']]\\\n",
    "    .groupby(['internal_product_id', 'city', 'month'])\\\n",
    "    .quantity\\\n",
    "    .mean()\\\n",
    "    .reset_index(name = 'AVG_SALES_CITY_MONTH')\n",
    "\n",
    "# Merging average dict for each month as a feature\n",
    "df = df.merge(right=df_dict_month, on=['internal_product_id', 'city', 'month'], how='left')"
   ]
  },
  {
   "cell_type": "markdown",
   "id": "b14103ea",
   "metadata": {},
   "source": [
    "### Creating Average number of skus purchased per city week_of_year"
   ]
  },
  {
   "cell_type": "code",
   "execution_count": null,
   "id": "a3017e3d",
   "metadata": {},
   "outputs": [],
   "source": [
    "# Creating Average number of skus purchased per city and week_of_year\n",
    "df_dict_week_of_year = df.loc[:,['internal_product_id', 'city', 'week_of_year', 'quantity']]\\\n",
    "    .groupby(['internal_product_id', 'city', 'week_of_year'])\\\n",
    "    .quantity\\\n",
    "    .mean()\\\n",
    "    .reset_index(name = 'AVG_SALES_CITY_WEEK_OF_YEAR')\n",
    "\n",
    "# merfing average dict for each week_of_year as a feature\n",
    "df = df.merge(right=df_dict_week_of_year, on=['internal_product_id', 'city', 'week_of_year'], how='left')"
   ]
  },
  {
   "cell_type": "markdown",
   "id": "62391dbb",
   "metadata": {},
   "source": [
    "### Creating Average number of skus purchased per city day_of_week"
   ]
  },
  {
   "cell_type": "code",
   "execution_count": null,
   "id": "3de12321",
   "metadata": {},
   "outputs": [],
   "source": [
    "# Creating Average number of skus purchased per city and day_of_week\n",
    "df_dict_day_of_week = df.loc[:, ['internal_product_id', 'city', 'day_of_week', 'quantity']]\\\n",
    "    .groupby(['internal_product_id', 'city', 'day_of_week'])\\\n",
    "    .quantity\\\n",
    "    .mean()\\\n",
    "    .reset_index(name = 'AVG_SALES_CITY_DAY_OF_WEEK')\n",
    "\n",
    "# Merging average dict for each day_of_week as a feature\n",
    "df = df.merge(right=df_dict_day_of_week, on=['internal_product_id', 'city', 'day_of_week'], how='left')"
   ]
  },
  {
   "cell_type": "markdown",
   "id": "36c18c15",
   "metadata": {},
   "source": [
    "## SAVING THE DATA"
   ]
  },
  {
   "cell_type": "code",
   "execution_count": null,
   "id": "4c180ddd",
   "metadata": {},
   "outputs": [],
   "source": [
    "df.to_parquet('../../data/processed/processed_data.parquet', engine='fastparquet', index=False)"
   ]
  }
 ],
 "metadata": {
  "kernelspec": {
   "display_name": ".venv",
   "language": "python",
   "name": "python3"
  },
  "language_info": {
   "codemirror_mode": {
    "name": "ipython",
    "version": 3
   },
   "file_extension": ".py",
   "mimetype": "text/x-python",
   "name": "python",
   "nbconvert_exporter": "python",
   "pygments_lexer": "ipython3",
   "version": "3.10.11"
  }
 },
 "nbformat": 4,
 "nbformat_minor": 5
}
